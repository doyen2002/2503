a = input(print('적정할 용액의 액성과 이름을 순서대로 입력해주세요(예: 산, 염산)'))
name = input()
v1 = float(input(print('그 용액의 부피(L)는 얼마입니까?')))
c1 = float(input(print('그 용액의 농도(mol/L)는 얼마입니까?')))
v2 = float(input(print('표준용액의 부피(L)는 얼마입니까?')))
c2 = float(input(print('표준용액의 농도(mol/L)는 얼마입니까?')))
K = float(input())
C = float(input())
v = c1*v1/c2
    
import math 

if C > 10**-6:
    if K>1:
        c=float(C)
    else:
        c=float(math.sqrt(K*C))
elif C<10**-8:
    c=10**-7
print(-math.log(c,10))

if a == '산':
        import csv 
        f = open('acid ionization constant.csv')
        data = csv.reader(f)
        for row in data :
            if name == row[0] :
                K = float(row[1])
                break
        else :
            print('앗! 용액 이름이 잘못 되었나보군요! 흥분된 마음을 가라앉히고 다시 한 번 더 입력해주세요.')

        ida = (K/c1)**0.5
        if ida > 0.05:
            if v2 == 0 :
                pH = -math.log10(c1)
                print(pH)
            else :
                if v2 == v :
                    print(7)
                else :
                    if v2 < v :
                        pH = -math.log10((c1*v1-c2*v2)/(v1+v2))
                        print(pH)
                    elif v2 > v :
                        pOH = -math.log10((c2*v2-c1*v1)/(v2 + v1))
                        print(14 - pOH)

        elif ida <= 0.05 :
            if v2 == 0:
                pH = -0.5*math.log10(c1*K)
                print(pH)
            else:
                if v2 == v:
                    pOH = -0.5*math.log10(((c1*v1/(v1+v2))*(10**(-14)))/K)
                    print(14-pOH)
                else :
                    if v2< v:
                        pH = -math.log10(K)+math.log10(c2*v2/(c1*v1-c2*v2))
                        print(pH)
                    elif v2 > v:
                        pOH = -math.log((c2*v2-c1*v1)/(v1+v2))
                        print(14-pOH)

        f.close()
        
elif a == '염기' :
        import csv 
        f = open('base ionization constant.csv')
        data = csv.reader(f)
        for row in data :
            if name == row[0] :
                K = float(row[1])
                break
        else :
            print('앗! 용액 이름이 잘못 되었나보군요! 흥분된 마음을 가라앉히고 다시 한 번 더 입력해주세요.')

        idb = (K/c1)**0.5
        if idb > 0.05 :
            if v2 == 0 :
                    pH = 14 + math.log10(c1)
                    print(pH)
            else :
                if v2 == v:
                    print(7)
                else :
                    if v2 < v :
                        pOH = -math.log10((c1*v1-c2*v2)/(v1+v2))
                        print(14 - pOH)
                    else :
                        print(14 + math.log10((c2*v2-c1*v1)/(v2+v1)))
        if idb < 0.05 :
            if v2 == 0 :
                print(14+0.5*math.log10(c1*K))
            else :
                if v2 == v :
                    pH = -0.5*math.log10(((c1*v1/(v1+v2))*(10**(-14)))/K)
                    print(pH)
                else :
                    if v2 < v:
                        pOH = -math.log10(K) + math.log10(c2*v2/(c1*v1-c2*v2))
                        print(14 - pOH)
                    else :
                        pH = -math.log10((c2*v2-c1*v1)/(v1+v2))
                        print(pH)
        f.close()

    else :
        print('용액의 액성을 정확히 기입했나요? 당신의 아름다운 마음으로 천천히 다시 한 번 더 입력해보세요.')
